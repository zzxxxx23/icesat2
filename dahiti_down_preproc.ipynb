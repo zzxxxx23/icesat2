{
 "cells": [
  {
   "cell_type": "code",
   "execution_count": 1,
   "metadata": {},
   "outputs": [],
   "source": [
    "import os\n",
    "import json\n",
    "import pprint\n",
    "import requests\n",
    "import config"
   ]
  },
  {
   "cell_type": "code",
   "execution_count": 3,
   "metadata": {},
   "outputs": [
    {
     "name": "stdout",
     "output_type": "stream",
     "text": [
      "['ASTNode', 'BACKTICK', 'Config', 'ConfigError', 'ConfigFormatError', 'DOLLAR', 'DictWrapper', 'Evaluator', 'KeyNotFoundError', 'ListBody', 'ListWrapper', 'Mapping', 'MappingBody', 'ODict', 'Parser', 'ParserError', 'RecognizerError', 'SCALAR_TOKENS', 'Token', 'WORD', '_COLON_OBJECT_PATTERN', '_DOTTED_OBJECT_PATTERN', '_DOTTED_WORDS', '_ENV_VALUE_PATTERN', '_IDENTIFIER_PATTERN', '_INTERPOLATION_PATTERN', '_ISO_DATETIME_PATTERN', '_SCALAR_TYPES', '_SYSTEM_TYPES', '__all__', '__builtins__', '__cached__', '__doc__', '__file__', '__loader__', '__name__', '__package__', '__path__', '__spec__', '__version__', '_default_convert_string', '_merge_dicts', '_parse_path', '_path_iterator', '_resolve_colon_object', '_resolve_dotted_object', '_string_for', '_to_source', '_unwrap', '_walk_dotted_path', 'basestring', 'datetime', 'importlib', 'io', 'is_identifier', 'logger', 'logging', 'open_file', 'os', 'parser', 're', 'sys', 'timezone', 'tokens']\n"
     ]
    }
   ],
   "source": [
    "print(dir(config))  # 检查 config 模块的属性"
   ]
  },
  {
   "cell_type": "code",
   "execution_count": 2,
   "metadata": {},
   "outputs": [
    {
     "ename": "AttributeError",
     "evalue": "module 'config' has no attribute 'dahiti_key'",
     "output_type": "error",
     "traceback": [
      "\u001b[1;31m---------------------------------------------------------------------------\u001b[0m",
      "\u001b[1;31mAttributeError\u001b[0m                            Traceback (most recent call last)",
      "Cell \u001b[1;32mIn[2], line 4\u001b[0m\n\u001b[0;32m      2\u001b[0m \u001b[38;5;28;01mif\u001b[39;00m \u001b[38;5;129;01mnot\u001b[39;00m os\u001b[38;5;241m.\u001b[39mpath\u001b[38;5;241m.\u001b[39misdir(dir_download):\n\u001b[0;32m      3\u001b[0m     os\u001b[38;5;241m.\u001b[39mmkdir(dir_download)\n\u001b[1;32m----> 4\u001b[0m API_KEY \u001b[38;5;241m=\u001b[39m \u001b[43mconfig\u001b[49m\u001b[38;5;241;43m.\u001b[39;49m\u001b[43mdahiti_key\u001b[49m\n\u001b[0;32m      5\u001b[0m OUTPUT_FORMAT \u001b[38;5;241m=\u001b[39m \u001b[38;5;124m'\u001b[39m\u001b[38;5;124mcsv\u001b[39m\u001b[38;5;124m'\u001b[39m  \u001b[38;5;66;03m## 可选格式: ascii, json, netcdf, csv \u001b[39;00m\n\u001b[0;32m      6\u001b[0m url \u001b[38;5;241m=\u001b[39m \u001b[38;5;124m'\u001b[39m\u001b[38;5;124mhttps://dahiti.dgfi.tum.de/api/v2/list-targets/\u001b[39m\u001b[38;5;124m'\u001b[39m\n",
      "\u001b[1;31mAttributeError\u001b[0m: module 'config' has no attribute 'dahiti_key'"
     ]
    }
   ],
   "source": [
    "##download\n",
    "dir_download = 'E:\\lakes\\dahiti'\n",
    "if not os.path.isdir(dir_download):\n",
    "    os.mkdir(dir_download)\n",
    "API_KEY = config.dahiti_key\n",
    "OUTPUT_FORMAT = 'csv'  ## 可选格式: ascii, json, netcdf, csv \n",
    "url = 'https://dahiti.dgfi.tum.de/api/v2/list-targets/'\n",
    "args = {}\n",
    "args['api_key'] = API_KEY\n",
    "args[\"min_lon\"],args[\"max_lon\"]=85,86\n",
    "args[\"min_lat\"],args[\"max_lat\"]=30,32"
   ]
  },
  {
   "cell_type": "code",
   "execution_count": null,
   "metadata": {},
   "outputs": [],
   "source": []
  }
 ],
 "metadata": {
  "kernelspec": {
   "display_name": "py310",
   "language": "python",
   "name": "python3"
  },
  "language_info": {
   "codemirror_mode": {
    "name": "ipython",
    "version": 3
   },
   "file_extension": ".py",
   "mimetype": "text/x-python",
   "name": "python",
   "nbconvert_exporter": "python",
   "pygments_lexer": "ipython3",
   "version": "3.10.14"
  }
 },
 "nbformat": 4,
 "nbformat_minor": 2
}
